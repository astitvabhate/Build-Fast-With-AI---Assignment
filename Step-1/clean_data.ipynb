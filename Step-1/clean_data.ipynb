{
 "cells": [
  {
   "cell_type": "markdown",
   "id": "481e768e",
   "metadata": {},
   "source": [
    "Step 1 - cleaning data from CSV file "
   ]
  },
  {
   "cell_type": "markdown",
   "id": "33ef1b48",
   "metadata": {},
   "source": [
    "1.1 - deducting duplicte emails "
   ]
  },
  {
   "cell_type": "code",
   "execution_count": 79,
   "id": "ed5ed77a",
   "metadata": {},
   "outputs": [
    {
     "name": "stdout",
     "output_type": "stream",
     "text": [
      "Duplicate email entries dropped: 0\n"
     ]
    }
   ],
   "source": [
    "\n",
    "import pandas as pd\n",
    "\n",
    "# Load the CSV\n",
    "file_path = 'Data.csv'\n",
    "# reading th csv file using pandas\n",
    "df = pd.read_csv(file_path)\n",
    "\n",
    "# Identify masked emails (those that contain \"*****\")\n",
    "masked = df['email'].str.contains(r'\\*{5}', na=False)\n",
    "unmasked_emails = df[~masked]\n",
    "\n",
    "# Count duplicates\n",
    "total_unmasked = len(unmasked_emails)\n",
    "unique_unmasked = unmasked_emails[\"email\"].nunique()\n",
    "duplicates_dropped = total_unmasked - unique_unmasked\n",
    "\n",
    "print(f\"Duplicate email entries dropped: {duplicates_dropped}\")\n"
   ]
  },
  {
   "cell_type": "code",
   "execution_count": 80,
   "id": "1078c3db",
   "metadata": {},
   "outputs": [],
   "source": [
    "# if first_name is not present, create it from the name column and update the DataFrame\n",
    "# Clean and normalize name column\n",
    "# Clean and normalize name column\n",
    "df['name'] = df['name'].astype(str).str.strip().str.replace(r'\\s+', ' ', regex=True)\n",
    "\n",
    "# Fill first_name where it's missing\n",
    "mask_first_missing = df['first_name'].isnull()\n",
    "df.loc[mask_first_missing, 'first_name'] = df.loc[mask_first_missing, 'name'].str.split().str[0]\n",
    "\n",
    "# Fill last_name where it's missing and name has more than one word\n",
    "mask_last_missing = df['last_name'].isnull() & (df['name'].str.split().str.len() > 1)\n",
    "df.loc[mask_last_missing, 'last_name'] = df.loc[mask_last_missing, 'name'].str.split().str[-1]\n",
    "\n",
    "\n"
   ]
  },
  {
   "cell_type": "code",
   "execution_count": 81,
   "id": "d46e2550",
   "metadata": {},
   "outputs": [],
   "source": [
    "# make Job Title - job_title\n",
    "# name What is your LinkedIn profile? to linkedin_profile\n",
    "df.rename(columns={\n",
    "    'Job Title': 'job_title',\n",
    "    'What is your LinkedIn profile?': 'linkedin_profile'\n",
    "}, inplace=True)"
   ]
  },
  {
   "cell_type": "code",
   "execution_count": 82,
   "id": "d285847d",
   "metadata": {},
   "outputs": [
    {
     "name": "stdout",
     "output_type": "stream",
     "text": [
      "Total rows in 'has_joined_event' column: 648\n",
      "0     False\n",
      "1     False\n",
      "2     False\n",
      "3     False\n",
      "4      True\n",
      "5     False\n",
      "6      True\n",
      "7      True\n",
      "8      True\n",
      "9      True\n",
      "10     True\n",
      "Name: has_joined_event, dtype: bool\n"
     ]
    }
   ],
   "source": [
    "df[\"has_joined_event\"] = df[\"has_joined_event\"].str.strip().str.lower().map({\n",
    "    \"yes\": True,\n",
    "    \"no\": False\n",
    "})\n",
    "\n",
    "\n",
    "# Print the only has joined event column with total number of rows\n",
    "print(f\"Total rows in 'has_joined_event' column: {len(df['has_joined_event'])}\")\n",
    "print(df[\"has_joined_event\"].head(11))   \n",
    "\n"
   ]
  },
  {
   "cell_type": "markdown",
   "id": "361deff4",
   "metadata": {},
   "source": [
    "So, data gas been manpluted"
   ]
  },
  {
   "cell_type": "markdown",
   "id": "385a1dd8",
   "metadata": {},
   "source": [
    "1.3 dentify and flag rows where:\n",
    " - LinkedIn profile is missing or incomplete \n",
    " - The job title is blank "
   ]
  },
  {
   "cell_type": "markdown",
   "id": "6aff0b98",
   "metadata": {},
   "source": [
    "flaging linkdin profiles in 3 types\n",
    "- valid \n",
    "- missing \n",
    "- incorrect \n"
   ]
  },
  {
   "cell_type": "code",
   "execution_count": 83,
   "id": "bd7c9037",
   "metadata": {},
   "outputs": [
    {
     "data": {
      "text/plain": [
       "(                        name  \\\n",
       " 0                Venkatesh R   \n",
       " 1                 Mark Jawut   \n",
       " 2              Avinash Kumar   \n",
       " 3                Wilson Juma   \n",
       " 4                     Suneel   \n",
       " 5  Aishwarya kumar choudhary   \n",
       " 6            AAKASH JANGEETI   \n",
       " 7               Arushi Yadav   \n",
       " 8           Aashish Ailawadi   \n",
       " 9             Aashish Sharma   \n",
       " \n",
       "                                     linkedin_profile linkdin_status  \n",
       " 0      https://linkedin.com/in/venkatesh-r-42845a282          Valid  \n",
       " 1                                          MarkJawut        Missing  \n",
       " 2                  linkedin.com/in/Avinash.kumar5167          Valid  \n",
       " 3                      linkedin.com/in/wilsonjuma254          Valid  \n",
       " 4                                                NaN        Missing  \n",
       " 5  www.linkedin.com/in/ aishwarya-kumar-choudhary...          Valid  \n",
       " 6     https://linkedin.com/in/aakash-royal-a8015821b          Valid  \n",
       " 7  https://www.linkedin.com/in/arushi-yadav-68744...          Valid  \n",
       " 8             https://www.linkedin.com/in/aashishail          Valid  \n",
       " 9  https://www.linkedin.com/in/aashish-sharma-0a7...          Valid  ,\n",
       " linkdin_status\n",
       " Valid      464\n",
       " Missing    184\n",
       " Name: count, dtype: int64)"
      ]
     },
     "execution_count": 83,
     "metadata": {},
     "output_type": "execute_result"
    }
   ],
   "source": [
    "# Clean and analyze the LinkedIn column\n",
    "\n",
    "def check_linkedin_status(link):\n",
    "    # Convert to string safely\n",
    "    link = str(link).strip().lower()\n",
    "\n",
    "    if link in [\"\", \"nan\", \"none\"]:\n",
    "        return \"Missing\"\n",
    "    elif \"linkedin.com/in/\" in link:\n",
    "        return \"Valid\"\n",
    "    elif \"linkedin.com\" in link:\n",
    "        return \"Incomplete\"\n",
    "    else:\n",
    "        return \"Missing\"\n",
    "\n",
    "    \n",
    "\n",
    "df['linkdin_status'] = df['linkedin_profile'].apply(check_linkedin_status)\n",
    "\n",
    "# Show results\n",
    "df[['name', 'linkedin_profile', 'linkdin_status']].head(10), df['linkdin_status'].value_counts()\n"
   ]
  },
  {
   "cell_type": "markdown",
   "id": "ed0fff5b",
   "metadata": {},
   "source": [
    "doing similar for job title "
   ]
  },
  {
   "cell_type": "code",
   "execution_count": 84,
   "id": "7c86e609",
   "metadata": {},
   "outputs": [
    {
     "name": "stdout",
     "output_type": "stream",
     "text": [
      "Details of missing job titles:\n",
      "                      name            email job_title\n",
      "16      Okeowo Abdulraheem  *****@gmail.com  None yet\n",
      "25   Abhishek Sanjay Dighe  *****@gmail.com      Null\n",
      "160   Divya Somnath Shinde  *****@gmail.com        Na\n"
     ]
    }
   ],
   "source": [
    "\n",
    "\n",
    "df['job_title'] = df['job_title'].astype(str).str.strip().str.split(',').str[0].str.strip()\n",
    "\n",
    "import re\n",
    "\n",
    "df['job_title_Status'] = df['job_title'].apply(\n",
    "    lambda x: 'Missing'\n",
    "    if pd.isna(x) or re.search(r'\\b(none|null|na|n/a|none yet)\\b', str(x).strip().lower())\n",
    "    else 'Present'\n",
    ")\n",
    "\n",
    "\n",
    "\n",
    "# Count how many are missing vs present\n",
    "job_title_status_counts = df['job_title_Status'].value_counts()\n",
    "\n",
    "# Show a sample of the updated data\n",
    "df[['name', 'job_title', 'job_title_Status']].head(10), job_title_status_counts \n",
    "\n",
    "\n",
    "#show details of missing job titles\n",
    "missing_job_titles = df[df['job_title_Status'] == 'Missing'][['name', 'email', 'job_title']]    \n",
    "print(\"Details of missing job titles:\")\n",
    "print(missing_job_titles.head())\n"
   ]
  },
  {
   "cell_type": "markdown",
   "id": "963e69ef",
   "metadata": {},
   "source": [
    "Completing Step 1 by saving all the  saving all new data in a new csv file called cleaned_output.csv"
   ]
  },
  {
   "cell_type": "code",
   "execution_count": 85,
   "id": "549d0ac1",
   "metadata": {},
   "outputs": [],
   "source": [
    "\n",
    "# Saving to a CSV file\n",
    "output_csv_path = 'cleaned_output.csv '\n",
    "df.to_csv(output_csv_path, index=False)"
   ]
  },
  {
   "cell_type": "markdown",
   "id": "abb52963",
   "metadata": {},
   "source": [
    "problems i faced\n"
   ]
  },
  {
   "cell_type": "code",
   "execution_count": 86,
   "id": "4eaea252",
   "metadata": {},
   "outputs": [
    {
     "name": "stdout",
     "output_type": "stream",
     "text": [
      "All job titles:\n",
      "['Freelance' 'Student' 'Digital Marketing Specialist' 'Devops engineer'\n",
      " 'Data Scientist' 'AI engineer' 'Unemployed' 'Sr. Software Engineer'\n",
      " 'Data analyst' 'Associate Product Manager' 'Lead Engineer' 'Data Analyst'\n",
      " 'Junior Software Engineer' 'Machine Learning Engineer' 'None yet'\n",
      " 'Sr Product Manager' 'CTO' 'AI Enginer' 'Lead Product Manager'\n",
      " 'Director Product Growth' 'VP Product & Tech' 'SPM' 'Null'\n",
      " 'Product Marketer' 'TPM' 'Data Analyst Enthusiast' 'Information Analyst'\n",
      " 'SDE' 'Aspiring data scientist' 'SE' 'Social media manager'\n",
      " 'IX Developer' 'Student Data Analyst' 'Freelancer' 'Secretary' 'marketer'\n",
      " 'ML Engineer' 'Developer' 'Product Engineer' 'pm' 'Director'\n",
      " 'Technical Project Manager' 'AIML' 'Teaching Assitant'\n",
      " 'Executive Director' 'YouTubers' 'Teacher' 'Strategy Manager' 'Dentist'\n",
      " 'Data analytics' 'Analyst' 'Programmer' 'Product manager' 'Delivery Lead'\n",
      " 'Data engineer' 'Drilling Fluids Engineer' 'Data Engineer' 'IT admin'\n",
      " 'Kogo AI' 'Senior Product Manager' 'STUDENT' 'Engineer' 'Ceo' 'CEO'\n",
      " 'Head of Product' 'AI & Data Product Leader' 'Database developer'\n",
      " 'Product Leader' 'Software engineering student' 'Manager' 'Web Developer'\n",
      " 'student' 'COO' 'PM' 'Audit analyst' 'Senior Data Scientist'\n",
      " 'Consultant Analyst' 'Software Architect' 'Engineering Student'\n",
      " 'Senior Program Manager' 'Software engineer of Ai'\n",
      " 'Administrator Database' 'Gen AI developer' 'Assistant Professor'\n",
      " 'Data science' 'Co-founder' 'Ai engineer' 'Pm' 'Product Manager'\n",
      " 'DATA SCI DEV' 'Founder & CEO' 'QA Lead' 'Sr manager'\n",
      " 'Student of pre final year' 'AI/ML Intern' 'Consultant' 'Data scientist'\n",
      " 'Associate software engineer (AI ML)' 'Business Analyst' 'CPO'\n",
      " 'It analyst' 'Partner Development leader' 'Marketer' 'data analyst'\n",
      " 'Sales representative' 'Senior Manager Strategy' 'Étudiant' 'Web design'\n",
      " 'Sr. Engineer' 'Software' 'AI' 'SharePoint Admin' 'Na' 'Self'\n",
      " 'Software developer' 'Application Developer' 'Electrical engineering'\n",
      " 'Project officer 2' 'Graphic designer' 'self employed' 'ASE'\n",
      " 'Web developer' 'Education' 'Marketing Director' 'Mr' 'Etudiant'\n",
      " 'logistic software operator' 'Backend Developer' 'NLP Intern' 'Associate'\n",
      " 'Stu9' 'BTECH CSE STUDENT' 'head strategy' 'IT officer'\n",
      " 'Head of Production' 'DE' 'Sr. Delivery Manager' 'Technology Architect'\n",
      " 'Full Stack Developer' 'practice head' 'Ai intern' 'PO' 'Self employed'\n",
      " 'Senior product manager' 'DevOps Engineer' 'Ux designer'\n",
      " 'Senior Career Counselor' 'Project Manager' 'Industrial Mantenence'\n",
      " 'Sales' 'Software engineer' 'MCA student' 'AI Engineer'\n",
      " 'AI and ML engineer' 'Virtual assistant' 'Junior project manager'\n",
      " 'Founder' 'Global Director GenAI' 'Data Scientist IG Management Intern'\n",
      " 'Intern' 'Dev' 'System Manager' 'Fresher'\n",
      " 'Student at Shri Ramswaroop Memorial University' 'Director of Growth'\n",
      " 'Co-founder / People Experience Specialist' 'Professor' 'Accountant'\n",
      " 'Senior software engineer' 'VP - Delivery' 'Webflow Developer'\n",
      " 'Economist' 'Font-End Development' 'Bug hunting' 'Java developer'\n",
      " 'Self-Employeed' 'Software Engineer Level 2' 'Trainer' '-' 'Tech Lead'\n",
      " 'Lead - Partnerships & Influencers' 'Teaching' 'UG Student' 'CGO'\n",
      " 'Tech enthusiastic college student' 'Autodidacta'\n",
      " 'Python fullstack intern' 'SSE' 'Data operator' 'Coading'\n",
      " 'Associate Software Engineer' 'Software dev' 'Senior Associate'\n",
      " 'Digital Business Partner' 'Project Engineer'\n",
      " 'Principal software engineer' 'Gen ai engineer' 'System developer' 'nan'\n",
      " 'railways communication system Engineer' 'Data labeller' 'software'\n",
      " 'students' 'developer' 'data science' 'Mnc' 'Graduate' 'Data analysis'\n",
      " 'AI enthusiast' 'Assistant Data' 'Sales Admin' 'No'\n",
      " 'Senior software Engineer' 'CEO Assistant' 'Python Full stack Developer'\n",
      " 'Data' 'Generative ai' 'Artificial intelligence and data science'\n",
      " 'Sr Solution Architect' 'System engineer' 'PhD student' 'Medical Doctor'\n",
      " 'Data engineering' 'Tutor of computer science' 'AI Intern'\n",
      " 'Software Development Engineer 2' 'Senior Software Engineer'\n",
      " 'Ml engineer' 'Assistant Software engineer' 'AI SPECIALIST'\n",
      " 'Assistant Software Engineer' 'Learning' 'Founder and CEO'\n",
      " 'Back end developer' 'Ic' 'Customer service' 'Swe' 'HR Data Analyst'\n",
      " 'manager' 'Digital Consultant' 'Managing Director' 'VP of MarTech'\n",
      " 'Founder&CEO' 'CISO and DPO' 'Nothing' 'Architect'\n",
      " 'Software Engineering Technical Lead' 'Backend Engineer' 'Staff QA'\n",
      " 'Entrepreneur' 'no' 'Professional Motion Graphics & Content Creator'\n",
      " 'CEO & Cofounder' 'Head' 'Studen' 'Associate Data Engineer'\n",
      " 'Deputy manager data science' 'Naan' 'EM' 'Director of Engineering'\n",
      " 'Webdesigner and webdevloper' 'Co founder' 'BI consultant' 'Project kead'\n",
      " 'Java Developer' 'AI & ml engineering' 'Personal' 'No job'\n",
      " 'Lead data analyst' 'Cto' 'Machine learning engineer' 'Cost controller'\n",
      " 'QA engineer' 'Quality assurance' 'Senior AI Engineer' 'Designer'\n",
      " 'Undergraduate' 'Software Engineer' 'Web development' 'Big Data Trainee'\n",
      " 'User Experience Designer' 'Technical Lead' 'HR Business Partner'\n",
      " 'St Architect' 'Web devoloper' 'Engineering Manager' 'Gen ai'\n",
      " 'Contrôle de gestion' 'DA' 'AI engineer/ web developer' 'BI Developer'\n",
      " 'Gen Ai' 'Trading' 'Digital Solutions Specialist' 'Cloud computing'\n",
      " 'ML Engineeer' 'BSCS' 'VR developer' 'S' 'Product Management'\n",
      " 'Business Specialist' '..' 'AI/ML ENGINEER' 'Product lead'\n",
      " 'Security Analyst' 'Principal product manager' 'Bank Audit' 'Studeny'\n",
      " 'Head of department' 'Cmo and Growth officer' 'Cmo' 'Tcs'\n",
      " 'SAP consultant' 'AI engineering' 'Software Delivery Manager'\n",
      " 'Digital Marketer' 'Product Marketing Manager' 'IT services' 'swe'\n",
      " 'Jobless' 'Executive' 'Act' 'Manger' 'Operation executive'\n",
      " 'Full Stack Web Dev' 'Nil' 'Cyber security' 'Technical Architect'\n",
      " 'MIS analist' 'school' 'AI Agent' 'Marketing specialist'\n",
      " 'Venture Associate' 'Tester' 'Jr. Data engineer'\n",
      " 'Staff software engineer' 'Ai' 'GEN AI ENGINEER'\n",
      " 'Senior Business Analyst' 'Computer engineering' 'Digital marketing Head'\n",
      " 'Job title' 'Treasury Finance Manager' 'Website Designer' 'AI/ML'\n",
      " 'Program Managar' 'COLLEGE STUDENT' 'Office of CEO' 'Co-Founder']\n",
      "First few rows of the cleaned DataFrame:\n",
      "            name first_name last_name                       email  \\\n",
      "0    Venkatesh R  Venkatesh         R             *****@gmail.com   \n",
      "1     Mark Jawut       Mark     Jawut             *****@gmail.com   \n",
      "2  Avinash Kumar    Avinash     Kumar           *****@sirmvit.edu   \n",
      "3    Wilson Juma     Wilson      Juma  *****@student.embuni.ac.ke   \n",
      "4         Suneel     Suneel       NaN             *****@gmail.com   \n",
      "\n",
      "                 created_at approval_status  has_joined_event amount  \\\n",
      "0  2025-01-12T07:14:38.302Z        approved             False    NaN   \n",
      "1  2025-01-15T10:05:14.049Z        approved             False  $0.00   \n",
      "2  2025-01-13T17:11:21.147Z        approved             False    NaN   \n",
      "3  2025-01-15T13:32:42.805Z        approved             False  $0.00   \n",
      "4  2025-01-14T14:01:11.567Z        approved              True    NaN   \n",
      "\n",
      "  amount_tax amount_discount currency ticket_name  \\\n",
      "0        NaN             NaN      NaN    Standard   \n",
      "1      $0.00           $0.00      usd    Standard   \n",
      "2        NaN             NaN      NaN    Standard   \n",
      "3      $0.00           $0.00      usd    Standard   \n",
      "4        NaN             NaN      NaN    Standard   \n",
      "\n",
      "                      job_title  \\\n",
      "0                     Freelance   \n",
      "1                       Student   \n",
      "2                       Student   \n",
      "3  Digital Marketing Specialist   \n",
      "4               Devops engineer   \n",
      "\n",
      "                                linkedin_profile linkdin_status  \\\n",
      "0  https://linkedin.com/in/venkatesh-r-42845a282          Valid   \n",
      "1                                      MarkJawut        Missing   \n",
      "2              linkedin.com/in/Avinash.kumar5167          Valid   \n",
      "3                  linkedin.com/in/wilsonjuma254          Valid   \n",
      "4                                            NaN        Missing   \n",
      "\n",
      "  job_title_Status  \n",
      "0          Present  \n",
      "1          Present  \n",
      "2          Present  \n",
      "3          Present  \n",
      "4          Present  \n"
     ]
    }
   ],
   "source": [
    "# print all the job titles\n",
    "print(\"All job titles:\")\n",
    "print(df['job_title'].unique())\n",
    "# Print the first few rows of the cleaned DataFrame\n",
    "print(\"First few rows of the cleaned DataFrame:\")\n",
    "print(df.head())\n"
   ]
  },
  {
   "cell_type": "code",
   "execution_count": 87,
   "id": "c7e44fa6",
   "metadata": {},
   "outputs": [
    {
     "name": "stdout",
     "output_type": "stream",
     "text": [
      "LinkedIn profile of Abhishek Gupta:\n",
      "              name                             linkedin_profile\n",
      "23  Abhishek Gupta  https://www.linkedin.com/in/abhishekguptas/\n"
     ]
    }
   ],
   "source": [
    "#print linkedin profile of Abhishek Gupta\n",
    "abhishek_gupta = df[df['name'].str.contains('Abhishek Gupta', case=False, na=False)]\n",
    "print(\"LinkedIn profile of Abhishek Gupta:\")\n",
    "print(abhishek_gupta[['name', 'linkedin_profile']].head(1))\n"
   ]
  },
  {
   "cell_type": "code",
   "execution_count": null,
   "id": "2600267f",
   "metadata": {},
   "outputs": [],
   "source": []
  }
 ],
 "metadata": {
  "kernelspec": {
   "display_name": "Python 3",
   "language": "python",
   "name": "python3"
  },
  "language_info": {
   "codemirror_mode": {
    "name": "ipython",
    "version": 3
   },
   "file_extension": ".py",
   "mimetype": "text/x-python",
   "name": "python",
   "nbconvert_exporter": "python",
   "pygments_lexer": "ipython3",
   "version": "3.11.6"
  }
 },
 "nbformat": 4,
 "nbformat_minor": 5
}
