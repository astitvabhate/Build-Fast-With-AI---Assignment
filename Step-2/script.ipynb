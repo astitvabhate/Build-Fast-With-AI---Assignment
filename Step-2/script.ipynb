{
 "cells": [
  {
   "cell_type": "code",
   "execution_count": 27,
   "id": "36d329c2",
   "metadata": {},
   "outputs": [],
   "source": [
    "import pandas as pd\n"
   ]
  },
  {
   "cell_type": "code",
   "execution_count": 28,
   "id": "47be1499",
   "metadata": {},
   "outputs": [],
   "source": [
    "file_path = 'cleaned_output.csv' \n",
    "df = pd.read_csv(file_path)"
   ]
  },
  {
   "cell_type": "code",
   "execution_count": 29,
   "id": "4c73f1bb",
   "metadata": {},
   "outputs": [],
   "source": [
    "if 'linkedin_status' not in df.columns:\n",
    "    df['linkedin_status'] = 'Missing'"
   ]
  },
  {
   "cell_type": "code",
   "execution_count": 30,
   "id": "8ed0a218",
   "metadata": {},
   "outputs": [],
   "source": [
    "def joined_or_not_message_with_name(has_joined_event, first_name):\n",
    "    if has_joined_event:\n",
    "        return f\"🎉 Joined the event:\\nHey {first_name}, thanks for joining our session!\"\n",
    "    else:\n",
    "        return f\"🙈 Didn’t join:\\nHi {first_name}, sorry we missed you at the last event!\""
   ]
  },
  {
   "cell_type": "code",
   "execution_count": 31,
   "id": "ecdb181e",
   "metadata": {},
   "outputs": [],
   "source": [
    "def job_role_message(has_joined_event, job_title_Status, job_title):\n",
    "    if job_title_Status == \"Present\":\n",
    "        if has_joined_event:\n",
    "            return f\" As a {job_title}, we think you’ll love our upcoming AI workflow tools. Want early access?\"\n",
    "        else:\n",
    "            return f\" We’re preparing another session that might better suit your interests as a {job_title}.\"\n",
    "    elif job_title_Status == \"Missing\": \n",
    "        return \"Could you tell me a bit about your job?\"\n"
   ]
  },
  {
   "cell_type": "code",
   "execution_count": 32,
   "id": "2f5e7eb4",
   "metadata": {},
   "outputs": [],
   "source": [
    "def linkedin_message(linkedin_status):\n",
    "    if linkedin_status in [\"Missing\", \"Incomplete\"]:\n",
    "        return \"Please update your LinkedIn profile to help us connect better.\"\n",
    "    return \"\""
   ]
  },
  {
   "cell_type": "code",
   "execution_count": 33,
   "id": "e745f063",
   "metadata": {},
   "outputs": [],
   "source": [
    "def final_message(has_joined_event, first_name, job_title_Status, job_title, linkedin_status):\n",
    "    msg = joined_or_not_message_with_name(has_joined_event, first_name)\n",
    "    msg += job_role_message(has_joined_event, job_title_Status, job_title)\n",
    "    linkedin_msg = linkedin_message(linkedin_status)\n",
    "    if linkedin_msg:\n",
    "        msg += \"\\n\\n\" + linkedin_msg\n",
    "    return msg"
   ]
  },
  {
   "cell_type": "code",
   "execution_count": 34,
   "id": "5a65de95",
   "metadata": {},
   "outputs": [],
   "source": [
    "def generate_message(row):\n",
    "    return final_message(\n",
    "        row['has_joined_event'],\n",
    "        row['first_name'],\n",
    "        row['job_title_Status'],\n",
    "        row['job_title'],\n",
    "        row['linkedin_status']\n",
    "    )\n",
    "\n"
   ]
  },
  {
   "cell_type": "code",
   "execution_count": 35,
   "id": "996c4ef8",
   "metadata": {},
   "outputs": [],
   "source": [
    "\n",
    "df['final_message'] = df.apply(generate_message, axis=1)\n",
    "output_df = df[['email', 'final_message']]\n",
    "output_df.to_csv('email_and_message.csv', index=False)\n"
   ]
  },
  {
   "cell_type": "code",
   "execution_count": 36,
   "id": "68b3307f",
   "metadata": {},
   "outputs": [
    {
     "name": "stdout",
     "output_type": "stream",
     "text": [
      "✅ Messages saved to: email_and_message.csv\n"
     ]
    }
   ],
   "source": [
    "\n",
    "print(\"✅ Messages saved to: email_and_message.csv\")"
   ]
  }
 ],
 "metadata": {
  "kernelspec": {
   "display_name": "Python 3",
   "language": "python",
   "name": "python3"
  },
  "language_info": {
   "codemirror_mode": {
    "name": "ipython",
    "version": 3
   },
   "file_extension": ".py",
   "mimetype": "text/x-python",
   "name": "python",
   "nbconvert_exporter": "python",
   "pygments_lexer": "ipython3",
   "version": "3.11.6"
  }
 },
 "nbformat": 4,
 "nbformat_minor": 5
}
